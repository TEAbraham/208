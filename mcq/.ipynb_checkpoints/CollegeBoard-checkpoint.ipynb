{
 "cells": [
  {
   "cell_type": "code",
   "execution_count": 1,
   "id": "9b8a4bed-77c8-4ac3-933a-538917c85c0a",
   "metadata": {
    "tags": []
   },
   "outputs": [],
   "source": [
    "import os\n",
    "import json\n",
    "import re\n",
    "import time\n",
    "import requests\n",
    "from urllib.parse import urlparse\n",
    "from bs4 import BeautifulSoup\n",
    "from selenium.webdriver.common.by import By\n",
    "from selenium.webdriver.support.ui import WebDriverWait\n",
    "from selenium.webdriver.support import expected_conditions as EC\n",
    "from selenium import webdriver\n",
    "from selenium.webdriver.chrome.service import Service\n",
    "from selenium.webdriver.chrome.options import Options\n",
    "\n",
    "\n",
    "def wrap_latex_if_needed(text):\n",
    "    stripped = text.strip()\n",
    "    if re.match(r\"^[-+*/()=0-9a-zA-Z.\\\\^ ]+$\", stripped):\n",
    "        return f\"$$ {stripped} $$\"\n",
    "    return f\"$ {stripped} $\"\n",
    "\n",
    "def convert_mml_to_latex(text):\n",
    "    soup = BeautifulSoup(text, \"html.parser\")\n",
    "    for math in soup.select(\"mjx-assistive-mml\"):\n",
    "        if math.has_attr(\"alttext\"):\n",
    "            latex = wrap_latex_if_needed(math[\"alttext\"].strip())\n",
    "            math.insert_before(latex)\n",
    "            math.decompose()\n",
    "    return soup.get_text(\" \", strip=True)\n",
    "\n",
    "# Setup and login instructions\n",
    "options = Options()\n",
    "options.add_argument('--start-maximized')\n",
    "driver = webdriver.Chrome(service=Service(), options=options)\n",
    "\n",
    "# Open the desired webpage\n",
    "driver.get('https://apclassroom.collegeboard.org/33/question_bank/questions')\n",
    "wait = WebDriverWait(driver, 15)\n",
    "\n",
    "# Enter the email address\n",
    "email_input = wait.until(EC.element_to_be_clickable((By.ID, 'input28')))\n",
    "email_input.send_keys('tabraham@thsrocks.us')\n",
    "email_input.send_keys(u'\\ue007')  # Press Enter key\n",
    "\n",
    "select = wait.until(EC.element_to_be_clickable((By.XPATH,'/html/body/div[2]/main/div[2]/div/div/div[2]/form/div[2]/div/div[2]/div[2]/div[2]/a')))\n",
    "select.send_keys(u'\\ue007')  # Press Enter key\n",
    "\n",
    "# Wait and input the password\n",
    "password_input = wait.until(EC.element_to_be_clickable((By.ID, 'input83')))\n",
    "password_input.send_keys('Ayrab711!')\n",
    "password_input.send_keys(u'\\ue007')  # Press Enter key\n",
    "\n",
    "# MCQ Page\n",
    "time.sleep(10)  # Adjust time as needed\n",
    "driver.get('https://apclassroom.collegeboard.org/33/question_bank/questions?tags=%2722737%27%3A%21%28356755%29')\n",
    "wait = WebDriverWait(driver, 15)\n",
    "\n",
    "select = wait.until(EC.element_to_be_clickable((By.XPATH,'/html/body/div[1]/div/div[4]/div/div[2]/main/div[4]/div[2]/div[2]/div[1]/div/div/table/tbody/tr[1]/td[1]/span/div/a')))\n",
    "select.send_keys(u'\\ue007')  # Press Enter key\n",
    "\n",
    "select = wait.until(EC.element_to_be_clickable((By.XPATH,'/html/body/div[1]/div/div[4]/div/div[2]/main/div[4]/div[2]/div[5]/div/div/div[2]/div/div[2]/div/div[2]/div[1]/span/svg')))\n",
    "select.send_keys(u'\\ue007')  # Press Enter key\n"
   ]
  },
  {
   "cell_type": "markdown",
   "id": "7d70c980-5fd0-4d31-8ac1-9021f774380e",
   "metadata": {},
   "source": []
  }
 ],
 "metadata": {
  "kernelspec": {
   "display_name": "Python 3 (ipykernel)",
   "language": "python",
   "name": "python3"
  },
  "language_info": {
   "codemirror_mode": {
    "name": "ipython",
    "version": 3
   },
   "file_extension": ".py",
   "mimetype": "text/x-python",
   "name": "python",
   "nbconvert_exporter": "python",
   "pygments_lexer": "ipython3",
   "version": "3.11.11"
  }
 },
 "nbformat": 4,
 "nbformat_minor": 5
}
