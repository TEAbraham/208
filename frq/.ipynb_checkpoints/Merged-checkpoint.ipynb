{
 "cells": [
  {
   "cell_type": "code",
   "execution_count": 5,
   "id": "6e0f6c44-89d0-4a53-b5c2-a3862f2e821c",
   "metadata": {},
   "outputs": [
    {
     "name": "stdout",
     "output_type": "stream",
     "text": [
      "✅ Processed 1460 questions from .//\n",
      "📘 Saved all questions to all_questions.json\n",
      "🖼 Consolidated images to images/\n"
     ]
    }
   ],
   "source": [
    "import os\n",
    "import json\n",
    "import shutil\n",
    "\n",
    "# Customize these paths\n",
    "src_base = \"./\"  # e.g., \"albert_scrape\"\n",
    "output_json_path = \"all_questions.json\"\n",
    "consolidated_image_dir = os.path.join(\"images\")\n",
    "\n",
    "# Ensure image directory exists\n",
    "os.makedirs(consolidated_image_dir, exist_ok=True)\n",
    "\n",
    "all_questions = []\n",
    "\n",
    "for unit in sorted(os.listdir(src_base)):\n",
    "    unit_path = os.path.join(src_base, unit)\n",
    "    if not os.path.isdir(unit_path) or not unit.startswith(\"unit\"):\n",
    "        continue\n",
    "\n",
    "    for file in os.listdir(unit_path):\n",
    "        if not file.endswith(\".json\"):\n",
    "            continue\n",
    "\n",
    "        question_id = os.path.splitext(file)[0]\n",
    "        full_json_path = os.path.join(unit_path, file)\n",
    "\n",
    "        with open(full_json_path, \"r\", encoding=\"utf-8\") as f:\n",
    "            data = json.load(f)\n",
    "\n",
    "        # Add unit label\n",
    "        data[\"unit\"] = unit\n",
    "\n",
    "        # Adjust image paths and move images\n",
    "        updated_images = []\n",
    "        for img in data.get(\"image_files\", []):\n",
    "            original_img_path = os.path.join(src_base, unit, img)\n",
    "            original_img_name = os.path.basename(img)\n",
    "            new_img_name = f\"{unit}_{original_img_name}\"\n",
    "            new_img_path = os.path.join(consolidated_image_dir, new_img_name)\n",
    "\n",
    "            # Copy and update path\n",
    "            try:\n",
    "                shutil.copy2(original_img_path, new_img_path)\n",
    "                updated_images.append(f\"images/{new_img_name}\")\n",
    "            except Exception as e:\n",
    "                print(f\"⚠️ Could not copy image: {original_img_path} — {e}\")\n",
    "\n",
    "        data[\"image_files\"] = updated_images\n",
    "        all_questions.append(data)\n",
    "\n",
    "print(f\"✅ Processed {len(all_questions)} questions from {src_base}/\")\n",
    "\n",
    "# Save combined JSON file\n",
    "with open(output_json_path, \"w\", encoding=\"utf-8\") as f:\n",
    "    json.dump(all_questions, f, indent=2, ensure_ascii=False)\n",
    "\n",
    "print(f\"📘 Saved all questions to {output_json_path}\")\n",
    "print(f\"🖼 Consolidated images to {consolidated_image_dir}/\")"
   ]
  },
  {
   "cell_type": "code",
   "execution_count": null,
   "id": "2905722e-0bca-4dec-ae2c-717aeee8714e",
   "metadata": {},
   "outputs": [],
   "source": []
  }
 ],
 "metadata": {
  "kernelspec": {
   "display_name": "Python 3 (ipykernel)",
   "language": "python",
   "name": "python3"
  },
  "language_info": {
   "codemirror_mode": {
    "name": "ipython",
    "version": 3
   },
   "file_extension": ".py",
   "mimetype": "text/x-python",
   "name": "python",
   "nbconvert_exporter": "python",
   "pygments_lexer": "ipython3",
   "version": "3.11.11"
  }
 },
 "nbformat": 4,
 "nbformat_minor": 5
}
